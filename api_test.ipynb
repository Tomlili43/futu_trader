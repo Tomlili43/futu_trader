{
 "cells": [
  {
   "cell_type": "code",
   "execution_count": 13,
   "metadata": {},
   "outputs": [
    {
     "name": "stdout",
     "output_type": "stream",
     "text": [
      "\u001b[0;30m2023-11-16 11:22:56,057 | 4107 | [open_context_base.py] _send_init_connect_sync:311: InitConnect ok: conn_id=13, host=127.0.0.1, port=11111, user_id=28749530\u001b[0m\n",
      "min_close: 79.2\n",
      "\u001b[0;30m2023-11-16 11:22:56,081 | 4107 | [open_context_base.py] on_disconnect:383: Disconnected: conn_id=13\u001b[0m\n"
     ]
    }
   ],
   "source": [
    "from futu import *\n",
    "quote_ctx = OpenQuoteContext(host='127.0.0.1', port=11111)\n",
    "ret, data, page_req_key = quote_ctx.request_history_kline('HK.09988',ktype='K_DAY', start='2023-11-11', end='2023-11-16', max_count=5) # 5 per page, request the first page\n",
    "if ret == RET_OK:\n",
    "    min_close = data['close'].min() # The minimum closing price of the first page\n",
    "    print(f\"min_close: {min_close}\")\n",
    "else:\n",
    "    print('error:', data)\n",
    "quote_ctx.close() # After using the connection, remember to close it to prevent the number of connections from running out\n"
   ]
  },
  {
   "cell_type": "code",
   "execution_count": 10,
   "metadata": {},
   "outputs": [
    {
     "name": "stdout",
     "output_type": "stream",
     "text": [
      "\u001b[0;30m2023-11-16 11:13:32,942 | 4107 | [open_context_base.py] _send_init_connect_sync:311: InitConnect ok: conn_id=10, host=127.0.0.1, port=11111, user_id=28749530\u001b[0m\n",
      "81.5\n",
      "\u001b[0;30m2023-11-16 11:13:32,954 | 4107 | [open_context_base.py] on_disconnect:383: Disconnected: conn_id=10\u001b[0m\n"
     ]
    }
   ],
   "source": [
    "from futu import *\n",
    "quote_ctx = OpenQuoteContext(host='127.0.0.1', port=11111)\n",
    "\n",
    "ret, data = quote_ctx.get_market_snapshot(['HK.09988'])\n",
    "if ret == RET_OK:\n",
    "    last_price = data['last_price'][0]  # 最新价格\n",
    "    print(last_price)\n",
    "\n",
    "else:\n",
    "    print('can not get latest price', data)\n",
    "quote_ctx.close() # 结束后记得关闭当条连接，防止连接条数用尽\n"
   ]
  },
  {
   "cell_type": "code",
   "execution_count": null,
   "metadata": {},
   "outputs": [],
   "source": [
    "from futu import *\n",
    "trd_ctx = OpenSecTradeContext(filter_trdmarket=TrdMarket.HK, host='127.0.0.1', port=11111, security_firm=SecurityFirm.FUTUSECURITIES)\n",
    "ret, history_data = trd_ctx.history_order_list_query()\n",
    "if ret == RET_OK:\n",
    "    if history_data.shape[0] > 0:  # If the order list is not empty\n",
    "        # print order which status is filled \n",
    "        print(history_data[history_data['order_status'] == OrderStatus.FILLED_ALL])\n",
    "else:\n",
    "    print('history_order_list_query error: ', data)\n",
    "trd_ctx.close()\n"
   ]
  },
  {
   "cell_type": "code",
   "execution_count": 10,
   "metadata": {},
   "outputs": [
    {
     "name": "stderr",
     "output_type": "stream",
     "text": [
      "Exception ignored in: <function OpenContextBase.__del__ at 0x12ec34900>\n",
      "Traceback (most recent call last):\n",
      "  File \"/Users/whitetree/anaconda3/envs/futu_api/lib/python3.11/site-packages/futu/common/open_context_base.py\", line 73, in __del__\n",
      "    self.close()\n",
      "  File \"/Users/whitetree/anaconda3/envs/futu_api/lib/python3.11/site-packages/futu/trade/open_trade_context.py\", line 32, in close\n",
      "    super(OpenTradeContextBase, self).close()\n",
      "  File \"/Users/whitetree/anaconda3/envs/futu_api/lib/python3.11/site-packages/futu/common/open_context_base.py\", line 116, in close\n",
      "    self._close(False)\n",
      "  File \"/Users/whitetree/anaconda3/envs/futu_api/lib/python3.11/site-packages/futu/common/open_context_base.py\", line 127, in _close\n",
      "    with self._lock:\n",
      "         ^^^^^^^^^^\n",
      "AttributeError: 'OpenSecTradeContext' object has no attribute '_lock'\n"
     ]
    },
    {
     "ename": "TypeError",
     "evalue": "OpenSecTradeContext.__init__() got an unexpected keyword argument 'trd_env'",
     "output_type": "error",
     "traceback": [
      "\u001b[0;31m---------------------------------------------------------------------------\u001b[0m",
      "\u001b[0;31mTypeError\u001b[0m                                 Traceback (most recent call last)",
      "\u001b[1;32m/Users/whitetree/Code/Python/futu_auto_trader/api_test.ipynb Cell 4\u001b[0m line \u001b[0;36m2\n\u001b[1;32m      <a href='vscode-notebook-cell:/Users/whitetree/Code/Python/futu_auto_trader/api_test.ipynb#W5sZmlsZQ%3D%3D?line=0'>1</a>\u001b[0m \u001b[39mfrom\u001b[39;00m \u001b[39mfutu\u001b[39;00m \u001b[39mimport\u001b[39;00m \u001b[39m*\u001b[39m\n\u001b[0;32m----> <a href='vscode-notebook-cell:/Users/whitetree/Code/Python/futu_auto_trader/api_test.ipynb#W5sZmlsZQ%3D%3D?line=1'>2</a>\u001b[0m trd_ctx \u001b[39m=\u001b[39m OpenSecTradeContext(filter_trdmarket\u001b[39m=\u001b[39;49mTrdMarket\u001b[39m.\u001b[39;49mHK, trd_env\u001b[39m=\u001b[39;49mTrdEnv\u001b[39m.\u001b[39;49mREAL,host\u001b[39m=\u001b[39;49m\u001b[39m'\u001b[39;49m\u001b[39m127.0.0.1\u001b[39;49m\u001b[39m'\u001b[39;49m, port\u001b[39m=\u001b[39;49m\u001b[39m11111\u001b[39;49m, security_firm\u001b[39m=\u001b[39;49mSecurityFirm\u001b[39m.\u001b[39;49mFUTUSECURITIES)\n\u001b[1;32m      <a href='vscode-notebook-cell:/Users/whitetree/Code/Python/futu_auto_trader/api_test.ipynb#W5sZmlsZQ%3D%3D?line=2'>3</a>\u001b[0m ret, data \u001b[39m=\u001b[39m trd_ctx\u001b[39m.\u001b[39mposition_list_query()\n\u001b[1;32m      <a href='vscode-notebook-cell:/Users/whitetree/Code/Python/futu_auto_trader/api_test.ipynb#W5sZmlsZQ%3D%3D?line=3'>4</a>\u001b[0m \u001b[39mif\u001b[39;00m ret \u001b[39m==\u001b[39m RET_OK:\n",
      "\u001b[0;31mTypeError\u001b[0m: OpenSecTradeContext.__init__() got an unexpected keyword argument 'trd_env'"
     ]
    }
   ],
   "source": [
    "from futu import *\n",
    "trd_ctx = OpenSecTradeContext(filter_trdmarket=TrdMarket.HK, trd_env=TrdEnv.REAL,host='127.0.0.1', port=11111, security_firm=SecurityFirm.FUTUSECURITIES)\n",
    "ret, data = trd_ctx.position_list_query()\n",
    "if ret == RET_OK:\n",
    "    print(data)\n",
    "    if data.shape[0] > 0:  # If the position list is not empty\n",
    "        print(data['stock_name'][0])  # Get the first stock name of the holding position\n",
    "        print(data['stock_name'].values.tolist())  # Convert to list\n",
    "else:\n",
    "    print('position_list_query error: ', data)\n",
    "trd_ctx.close()  # Close the current connection\n"
   ]
  },
  {
   "cell_type": "code",
   "execution_count": null,
   "metadata": {},
   "outputs": [],
   "source": [
    "from futu import *\n",
    "trd_ctx = OpenSecTradeContext(filter_trdmarket=TrdMarket.HK, host='127.0.0.1', port=11111, security_firm=SecurityFirm.FUTUSECURITIES)\n",
    "quote_ctx = OpenQuoteContext(host='127.0.0.1', port=11111)\n",
    "\n",
    "ret, data = trd_ctx.acctradinginfo_query(trd_env=TrdEnv.REAL, order_type=OrderType.NORMAL, code='HK.09988', price=88)\n",
    "if ret == RET_OK:\n",
    "    print(data)\n",
    "    print(data['max_cash_and_margin_buy'][0])  # Get maximum quantity that can be bought on margin\n",
    "else:\n",
    "    print('acctradinginfo_query error: ', data)\n",
    "trd_ctx.close()  # Close the current connection\n"
   ]
  },
  {
   "cell_type": "code",
   "execution_count": null,
   "metadata": {},
   "outputs": [],
   "source": [
    "from futu import *\n",
    "from utilts.encrypt import decrypt\n",
    "\n",
    "PASSWORD = os.environ.get('FUTU_PASSWORD')\n",
    "############################ 全局变量设置 ############################\n",
    "FUTUOPEND_ADDRESS = '127.0.0.1'  # Futu OpenD 监听地址\n",
    "FUTUOPEND_PORT = 11111  # Futu OpenD 监听端口\n",
    "\n",
    "TRADING_ENVIRONMENT = TrdEnv.SIMULATE  # 交易环境：真实 / 模拟\n",
    "TRADING_MARKET = TrdMarket.HK  # 交易市场权限，用于筛选对应交易市场权限的账户\n",
    "TRADING_PWD = decrypt(PASSWORD)  # 交易密码，用于解锁交易\n",
    "TRADING_PERIOD = KLType.K_1M  # 信号 K 线周期\n",
    "TRADING_SECURITY = 'HK.09988'  # 交易标的\n",
    "\n",
    "quote_context = OpenQuoteContext(host=FUTUOPEND_ADDRESS, port=FUTUOPEND_PORT)  # 行情对象\n",
    "trade_context = OpenSecTradeContext(filter_trdmarket=TRADING_MARKET, host=FUTUOPEND_ADDRESS, port=FUTUOPEND_PORT, security_firm=SecurityFirm.FUTUSECURITIES)  # 交易对象，根据交易品种修改交易对象类型\n",
    "# 解锁交易\n",
    "def unlock_trade():\n",
    "    if TRADING_ENVIRONMENT == TrdEnv.REAL:\n",
    "        ret, data = trade_context.unlock_trade(TRADING_PWD)\n",
    "        if ret != RET_OK:\n",
    "            print('解锁交易失败：', data)\n",
    "            return False\n",
    "        print('解锁交易成功！')\n",
    "    return True\n",
    "\n",
    "############################ 填充以下函数来完成您的策略 ############################\n",
    "# 策略启动时运行一次，用于初始化策略\n",
    "def on_init():\n",
    "    # 解锁交易（如果是模拟交易则不需要解锁）\n",
    "    if not unlock_trade():\n",
    "        return False\n",
    "    print('************  策略开始运行 ***********')\n",
    "    return True\n",
    "\n",
    "on_init()"
   ]
  }
 ],
 "metadata": {
  "kernelspec": {
   "display_name": "futu_api",
   "language": "python",
   "name": "python3"
  },
  "language_info": {
   "codemirror_mode": {
    "name": "ipython",
    "version": 3
   },
   "file_extension": ".py",
   "mimetype": "text/x-python",
   "name": "python",
   "nbconvert_exporter": "python",
   "pygments_lexer": "ipython3",
   "version": "3.11.4"
  },
  "orig_nbformat": 4
 },
 "nbformat": 4,
 "nbformat_minor": 2
}
