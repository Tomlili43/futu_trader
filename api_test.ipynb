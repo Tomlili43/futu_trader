{
 "cells": [
  {
   "cell_type": "code",
   "execution_count": 11,
   "metadata": {},
   "outputs": [
    {
     "name": "stdout",
     "output_type": "stream",
     "text": [
      "\u001b[0;30m2023-11-15 15:48:10,438 | 2777 | [open_context_base.py] _send_init_connect_sync:311: InitConnect ok: conn_id=18, host=127.0.0.1, port=11111, user_id=28749530\u001b[0m\n",
      "       code     name             time_key   open  close   high    low  \\\n",
      "0  HK.09988  阿里巴巴-SW  2023-11-14 09:30:00  80.25  80.25  80.25  80.25   \n",
      "1  HK.09988  阿里巴巴-SW  2023-11-14 09:31:00  80.30  80.30  80.45  80.25   \n",
      "2  HK.09988  阿里巴巴-SW  2023-11-14 09:32:00  80.30  80.30  80.35  80.25   \n",
      "3  HK.09988  阿里巴巴-SW  2023-11-14 09:33:00  80.25  80.15  80.30  80.15   \n",
      "4  HK.09988  阿里巴巴-SW  2023-11-14 09:34:00  80.20  80.05  80.20  80.05   \n",
      "\n",
      "   pe_ratio  turnover_rate  volume    turnover  change_rate  last_close  \n",
      "0       0.0            0.0  494200  39659550.0    -0.495970       80.65  \n",
      "1       0.0            0.0  114700   9211650.0     0.062305       80.25  \n",
      "2       0.0            0.0  119900   9628935.4     0.000000       80.30  \n",
      "3       0.0            0.0  133000  10673032.8    -0.186800       80.30  \n",
      "4       0.0            0.0   76600   6139358.9    -0.124766       80.15  \n",
      "HK.09988\n",
      "[80.25, 80.3, 80.3, 80.15, 80.05]\n",
      "*************************************\n",
      "error: F3CNN返回错误，可能是参数错误或者断线\n",
      "All pages are finished!\n",
      "\u001b[0;30m2023-11-15 15:48:10,709 | 2777 | [open_context_base.py] on_disconnect:383: Disconnected: conn_id=18\u001b[0m\n"
     ]
    }
   ],
   "source": [
    "from futu import *\n",
    "quote_ctx = OpenQuoteContext(host='127.0.0.1', port=11111)\n",
    "ret, data, page_req_key = quote_ctx.request_history_kline('HK.09988',ktype='K_1M', start='2023-11-14', end='2023-11-14', max_count=5) # 5 per page, request the first page\n",
    "if ret == RET_OK:\n",
    "    print(data)\n",
    "    print(data['code'][0]) # Take the first stock code\n",
    "    print(data['close'].values.tolist()) # The closing price of the first page is converted to a list\n",
    "else:\n",
    "    print('error:', data)\n",
    "while page_req_key != None: # Request all results after\n",
    "    print('*************************************')\n",
    "    ret, data, page_req_key = quote_ctx.request_history_kline('HK.00700', start='2019-09-11', end='2019-09-18', max_count=5,page_req_key=page_req_key) # Request the page after turning data\n",
    "    if ret == RET_OK:\n",
    "        print(data)\n",
    "    else:\n",
    "        print('error:', data)\n",
    "print('All pages are finished!')\n",
    "quote_ctx.close() # After using the connection, remember to close it to prevent the number of connections from running out\n"
   ]
  },
  {
   "cell_type": "code",
   "execution_count": 12,
   "metadata": {},
   "outputs": [
    {
     "name": "stdout",
     "output_type": "stream",
     "text": [
      "\u001b[0;30m2023-11-15 15:48:17,990 | 2777 | [open_context_base.py] _send_init_connect_sync:311: InitConnect ok: conn_id=19, host=127.0.0.1, port=11111, user_id=28749530\u001b[0m\n",
      "83.1\n",
      "\u001b[0;30m2023-11-15 15:48:18,005 | 2777 | [open_context_base.py] on_disconnect:383: Disconnected: conn_id=19\u001b[0m\n"
     ]
    }
   ],
   "source": [
    "from futu import *\n",
    "quote_ctx = OpenQuoteContext(host='127.0.0.1', port=11111)\n",
    "\n",
    "ret, data = quote_ctx.get_market_snapshot(['HK.09988'])\n",
    "if ret == RET_OK:\n",
    "    last_price = data['last_price'][0]  # 最新价格\n",
    "    print(last_price)\n",
    "\n",
    "else:\n",
    "    print('can not get latest price', data)\n",
    "quote_ctx.close() # 结束后记得关闭当条连接，防止连接条数用尽\n"
   ]
  },
  {
   "cell_type": "code",
   "execution_count": null,
   "metadata": {},
   "outputs": [],
   "source": [
    "from futu import *\n",
    "trd_ctx = OpenSecTradeContext(filter_trdmarket=TrdMarket.HK, host='127.0.0.1', port=11111, security_firm=SecurityFirm.FUTUSECURITIES)\n",
    "ret, history_data = trd_ctx.history_order_list_query()\n",
    "if ret == RET_OK:\n",
    "    if history_data.shape[0] > 0:  # If the order list is not empty\n",
    "        # print order which status is filled \n",
    "        print(history_data[history_data['order_status'] == OrderStatus.FILLED_ALL])\n",
    "else:\n",
    "    print('history_order_list_query error: ', data)\n",
    "trd_ctx.close()\n"
   ]
  },
  {
   "cell_type": "code",
   "execution_count": 10,
   "metadata": {},
   "outputs": [
    {
     "name": "stderr",
     "output_type": "stream",
     "text": [
      "Exception ignored in: <function OpenContextBase.__del__ at 0x12ec34900>\n",
      "Traceback (most recent call last):\n",
      "  File \"/Users/whitetree/anaconda3/envs/futu_api/lib/python3.11/site-packages/futu/common/open_context_base.py\", line 73, in __del__\n",
      "    self.close()\n",
      "  File \"/Users/whitetree/anaconda3/envs/futu_api/lib/python3.11/site-packages/futu/trade/open_trade_context.py\", line 32, in close\n",
      "    super(OpenTradeContextBase, self).close()\n",
      "  File \"/Users/whitetree/anaconda3/envs/futu_api/lib/python3.11/site-packages/futu/common/open_context_base.py\", line 116, in close\n",
      "    self._close(False)\n",
      "  File \"/Users/whitetree/anaconda3/envs/futu_api/lib/python3.11/site-packages/futu/common/open_context_base.py\", line 127, in _close\n",
      "    with self._lock:\n",
      "         ^^^^^^^^^^\n",
      "AttributeError: 'OpenSecTradeContext' object has no attribute '_lock'\n"
     ]
    },
    {
     "ename": "TypeError",
     "evalue": "OpenSecTradeContext.__init__() got an unexpected keyword argument 'trd_env'",
     "output_type": "error",
     "traceback": [
      "\u001b[0;31m---------------------------------------------------------------------------\u001b[0m",
      "\u001b[0;31mTypeError\u001b[0m                                 Traceback (most recent call last)",
      "\u001b[1;32m/Users/whitetree/Code/Python/futu_auto_trader/api_test.ipynb Cell 4\u001b[0m line \u001b[0;36m2\n\u001b[1;32m      <a href='vscode-notebook-cell:/Users/whitetree/Code/Python/futu_auto_trader/api_test.ipynb#W5sZmlsZQ%3D%3D?line=0'>1</a>\u001b[0m \u001b[39mfrom\u001b[39;00m \u001b[39mfutu\u001b[39;00m \u001b[39mimport\u001b[39;00m \u001b[39m*\u001b[39m\n\u001b[0;32m----> <a href='vscode-notebook-cell:/Users/whitetree/Code/Python/futu_auto_trader/api_test.ipynb#W5sZmlsZQ%3D%3D?line=1'>2</a>\u001b[0m trd_ctx \u001b[39m=\u001b[39m OpenSecTradeContext(filter_trdmarket\u001b[39m=\u001b[39;49mTrdMarket\u001b[39m.\u001b[39;49mHK, trd_env\u001b[39m=\u001b[39;49mTrdEnv\u001b[39m.\u001b[39;49mREAL,host\u001b[39m=\u001b[39;49m\u001b[39m'\u001b[39;49m\u001b[39m127.0.0.1\u001b[39;49m\u001b[39m'\u001b[39;49m, port\u001b[39m=\u001b[39;49m\u001b[39m11111\u001b[39;49m, security_firm\u001b[39m=\u001b[39;49mSecurityFirm\u001b[39m.\u001b[39;49mFUTUSECURITIES)\n\u001b[1;32m      <a href='vscode-notebook-cell:/Users/whitetree/Code/Python/futu_auto_trader/api_test.ipynb#W5sZmlsZQ%3D%3D?line=2'>3</a>\u001b[0m ret, data \u001b[39m=\u001b[39m trd_ctx\u001b[39m.\u001b[39mposition_list_query()\n\u001b[1;32m      <a href='vscode-notebook-cell:/Users/whitetree/Code/Python/futu_auto_trader/api_test.ipynb#W5sZmlsZQ%3D%3D?line=3'>4</a>\u001b[0m \u001b[39mif\u001b[39;00m ret \u001b[39m==\u001b[39m RET_OK:\n",
      "\u001b[0;31mTypeError\u001b[0m: OpenSecTradeContext.__init__() got an unexpected keyword argument 'trd_env'"
     ]
    }
   ],
   "source": [
    "from futu import *\n",
    "trd_ctx = OpenSecTradeContext(filter_trdmarket=TrdMarket.HK, trd_env=TrdEnv.REAL,host='127.0.0.1', port=11111, security_firm=SecurityFirm.FUTUSECURITIES)\n",
    "ret, data = trd_ctx.position_list_query()\n",
    "if ret == RET_OK:\n",
    "    print(data)\n",
    "    if data.shape[0] > 0:  # If the position list is not empty\n",
    "        print(data['stock_name'][0])  # Get the first stock name of the holding position\n",
    "        print(data['stock_name'].values.tolist())  # Convert to list\n",
    "else:\n",
    "    print('position_list_query error: ', data)\n",
    "trd_ctx.close()  # Close the current connection\n"
   ]
  },
  {
   "cell_type": "code",
   "execution_count": null,
   "metadata": {},
   "outputs": [],
   "source": [
    "from futu import *\n",
    "trd_ctx = OpenSecTradeContext(filter_trdmarket=TrdMarket.HK, host='127.0.0.1', port=11111, security_firm=SecurityFirm.FUTUSECURITIES)\n",
    "quote_ctx = OpenQuoteContext(host='127.0.0.1', port=11111)\n",
    "\n",
    "ret, data = trd_ctx.acctradinginfo_query(trd_env=TrdEnv.REAL, order_type=OrderType.NORMAL, code='HK.09988', price=88)\n",
    "if ret == RET_OK:\n",
    "    print(data)\n",
    "    print(data['max_cash_and_margin_buy'][0])  # Get maximum quantity that can be bought on margin\n",
    "else:\n",
    "    print('acctradinginfo_query error: ', data)\n",
    "trd_ctx.close()  # Close the current connection\n"
   ]
  },
  {
   "cell_type": "code",
   "execution_count": null,
   "metadata": {},
   "outputs": [],
   "source": [
    "from futu import *\n",
    "from utilts.encrypt import decrypt\n",
    "\n",
    "PASSWORD = os.environ.get('FUTU_PASSWORD')\n",
    "############################ 全局变量设置 ############################\n",
    "FUTUOPEND_ADDRESS = '127.0.0.1'  # Futu OpenD 监听地址\n",
    "FUTUOPEND_PORT = 11111  # Futu OpenD 监听端口\n",
    "\n",
    "TRADING_ENVIRONMENT = TrdEnv.SIMULATE  # 交易环境：真实 / 模拟\n",
    "TRADING_MARKET = TrdMarket.HK  # 交易市场权限，用于筛选对应交易市场权限的账户\n",
    "TRADING_PWD = decrypt(PASSWORD)  # 交易密码，用于解锁交易\n",
    "TRADING_PERIOD = KLType.K_1M  # 信号 K 线周期\n",
    "TRADING_SECURITY = 'HK.09988'  # 交易标的\n",
    "\n",
    "quote_context = OpenQuoteContext(host=FUTUOPEND_ADDRESS, port=FUTUOPEND_PORT)  # 行情对象\n",
    "trade_context = OpenSecTradeContext(filter_trdmarket=TRADING_MARKET, host=FUTUOPEND_ADDRESS, port=FUTUOPEND_PORT, security_firm=SecurityFirm.FUTUSECURITIES)  # 交易对象，根据交易品种修改交易对象类型\n",
    "# 解锁交易\n",
    "def unlock_trade():\n",
    "    if TRADING_ENVIRONMENT == TrdEnv.REAL:\n",
    "        ret, data = trade_context.unlock_trade(TRADING_PWD)\n",
    "        if ret != RET_OK:\n",
    "            print('解锁交易失败：', data)\n",
    "            return False\n",
    "        print('解锁交易成功！')\n",
    "    return True\n",
    "\n",
    "############################ 填充以下函数来完成您的策略 ############################\n",
    "# 策略启动时运行一次，用于初始化策略\n",
    "def on_init():\n",
    "    # 解锁交易（如果是模拟交易则不需要解锁）\n",
    "    if not unlock_trade():\n",
    "        return False\n",
    "    print('************  策略开始运行 ***********')\n",
    "    return True\n",
    "\n",
    "on_init()"
   ]
  }
 ],
 "metadata": {
  "kernelspec": {
   "display_name": "futu_api",
   "language": "python",
   "name": "python3"
  },
  "language_info": {
   "codemirror_mode": {
    "name": "ipython",
    "version": 3
   },
   "file_extension": ".py",
   "mimetype": "text/x-python",
   "name": "python",
   "nbconvert_exporter": "python",
   "pygments_lexer": "ipython3",
   "version": "3.11.4"
  },
  "orig_nbformat": 4
 },
 "nbformat": 4,
 "nbformat_minor": 2
}
