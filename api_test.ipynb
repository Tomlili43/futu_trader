{
 "cells": [
  {
   "cell_type": "code",
   "execution_count": 6,
   "metadata": {},
   "outputs": [
    {
     "name": "stdout",
     "output_type": "stream",
     "text": [
      "\u001b[0;30m2023-11-11 09:31:52,086 | 27393 | [open_context_base.py] _send_init_connect_sync:311: InitConnect ok: conn_id=1063, host=127.0.0.1, port=11111, user_id=28749530\u001b[0m\n",
      "79.6\n",
      "\u001b[0;30m2023-11-11 09:31:52,161 | 27393 | [open_context_base.py] on_disconnect:383: Disconnected: conn_id=1063\u001b[0m\n"
     ]
    },
    {
     "name": "stdout",
     "output_type": "stream",
     "text": [
      "\u001b[0;30m2023-11-11 09:31:55,691 | 27393 | [open_context_base.py] _send_init_connect_sync:311: InitConnect ok: conn_id=1064, host=127.0.0.1, port=11111, user_id=28749530\u001b[0m\n",
      "\u001b[0;30m2023-11-11 09:31:55,692 | 27393 | [open_context_base.py] _send_init_connect_sync:311: InitConnect ok: conn_id=1065, host=127.0.0.1, port=11111, user_id=28749530\u001b[0m\n"
     ]
    }
   ],
   "source": [
    "from futu import *\n",
    "quote_ctx = OpenQuoteContext(host='127.0.0.1', port=11111)\n",
    "\n",
    "ret, data = quote_ctx.get_market_snapshot(['HK.09988'])\n",
    "if ret == RET_OK:\n",
    "    last_price = data['last_price'][0]  # 最新价格\n",
    "    print(last_price)\n",
    "\n",
    "else:\n",
    "    print('can not get latest price', data)\n",
    "quote_ctx.close() # 结束后记得关闭当条连接，防止连接条数用尽\n"
   ]
  },
  {
   "cell_type": "code",
   "execution_count": 7,
   "metadata": {},
   "outputs": [
    {
     "name": "stdout",
     "output_type": "stream",
     "text": [
      "\u001b[0;30m2023-11-11 09:31:57,459 | 27393 | [open_context_base.py] _send_init_connect_sync:311: InitConnect ok: conn_id=1066, host=127.0.0.1, port=11111, user_id=28749530\u001b[0m\n",
      "\u001b[0;30m2023-11-11 09:31:57,469 | 27393 | [open_context_base.py] _send_init_connect_sync:311: InitConnect ok: conn_id=1067, host=127.0.0.1, port=11111, user_id=28749530\u001b[0m\n",
      "   max_cash_buy  max_cash_and_margin_buy  max_position_sell max_sell_short  \\\n",
      "0         500.0                    500.0             8000.0            N/A   \n",
      "\n",
      "  max_buy_back long_required_im short_required_im  \n",
      "0          N/A              N/A               N/A  \n",
      "500.0\n",
      "\u001b[0;30m2023-11-11 09:31:57,545 | 27393 | [open_context_base.py] on_disconnect:383: Disconnected: conn_id=1066\u001b[0m\n"
     ]
    }
   ],
   "source": [
    "from futu import *\n",
    "trd_ctx = OpenSecTradeContext(filter_trdmarket=TrdMarket.HK, host='127.0.0.1', port=11111, security_firm=SecurityFirm.FUTUSECURITIES)\n",
    "quote_ctx = OpenQuoteContext(host='127.0.0.1', port=11111)\n",
    "\n",
    "ret, data = trd_ctx.acctradinginfo_query(trd_env=TrdEnv.SIMULATE, order_type=OrderType.NORMAL, code='HK.09988', price=88)\n",
    "if ret == RET_OK:\n",
    "    print(data)\n",
    "    print(data['max_cash_and_margin_buy'][0])  # Get maximum quantity that can be bought on margin\n",
    "else:\n",
    "    print('acctradinginfo_query error: ', data)\n",
    "trd_ctx.close()  # Close the current connection\n"
   ]
  },
  {
   "cell_type": "code",
   "execution_count": 11,
   "metadata": {},
   "outputs": [
    {
     "name": "stdout",
     "output_type": "stream",
     "text": [
      "253908\n",
      "\u001b[0;30m2023-11-11 09:33:42,616 | 27393 | [open_context_base.py] _send_init_connect_sync:311: InitConnect ok: conn_id=1074, host=127.0.0.1, port=11111, user_id=28749530\u001b[0m\n",
      "\u001b[0;30m2023-11-11 09:33:42,619 | 27393 | [open_context_base.py] _send_init_connect_sync:311: InitConnect ok: conn_id=1075, host=127.0.0.1, port=11111, user_id=28749530\u001b[0m\n",
      "************  策略开始运行 ***********\n"
     ]
    },
    {
     "data": {
      "text/plain": [
       "True"
      ]
     },
     "execution_count": 11,
     "metadata": {},
     "output_type": "execute_result"
    }
   ],
   "source": [
    "from futu import *\n",
    "from utilts.encrypt import decrypt\n",
    "\n",
    "PASSWORD = os.environ.get('FUTU_PASSWORD')\n",
    "############################ 全局变量设置 ############################\n",
    "FUTUOPEND_ADDRESS = '127.0.0.1'  # Futu OpenD 监听地址\n",
    "FUTUOPEND_PORT = 11111  # Futu OpenD 监听端口\n",
    "\n",
    "TRADING_ENVIRONMENT = TrdEnv.SIMULATE  # 交易环境：真实 / 模拟\n",
    "TRADING_MARKET = TrdMarket.HK  # 交易市场权限，用于筛选对应交易市场权限的账户\n",
    "TRADING_PWD = decrypt(PASSWORD)  # 交易密码，用于解锁交易\n",
    "TRADING_PERIOD = KLType.K_1M  # 信号 K 线周期\n",
    "TRADING_SECURITY = 'HK.09988'  # 交易标的\n",
    "\n",
    "quote_context = OpenQuoteContext(host=FUTUOPEND_ADDRESS, port=FUTUOPEND_PORT)  # 行情对象\n",
    "trade_context = OpenSecTradeContext(filter_trdmarket=TRADING_MARKET, host=FUTUOPEND_ADDRESS, port=FUTUOPEND_PORT, security_firm=SecurityFirm.FUTUSECURITIES)  # 交易对象，根据交易品种修改交易对象类型\n",
    "# 解锁交易\n",
    "def unlock_trade():\n",
    "    if TRADING_ENVIRONMENT == TrdEnv.REAL:\n",
    "        ret, data = trade_context.unlock_trade(TRADING_PWD)\n",
    "        if ret != RET_OK:\n",
    "            print('解锁交易失败：', data)\n",
    "            return False\n",
    "        print('解锁交易成功！')\n",
    "    return True\n",
    "\n",
    "############################ 填充以下函数来完成您的策略 ############################\n",
    "# 策略启动时运行一次，用于初始化策略\n",
    "def on_init():\n",
    "    # 解锁交易（如果是模拟交易则不需要解锁）\n",
    "    if not unlock_trade():\n",
    "        return False\n",
    "    print('************  策略开始运行 ***********')\n",
    "    return True\n",
    "\n",
    "on_init()"
   ]
  }
 ],
 "metadata": {
  "kernelspec": {
   "display_name": "futu_api",
   "language": "python",
   "name": "python3"
  },
  "language_info": {
   "codemirror_mode": {
    "name": "ipython",
    "version": 3
   },
   "file_extension": ".py",
   "mimetype": "text/x-python",
   "name": "python",
   "nbconvert_exporter": "python",
   "pygments_lexer": "ipython3",
   "version": "3.11.4"
  },
  "orig_nbformat": 4
 },
 "nbformat": 4,
 "nbformat_minor": 2
}
